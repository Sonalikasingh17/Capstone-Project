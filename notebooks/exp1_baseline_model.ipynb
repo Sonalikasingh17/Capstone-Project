{
 "cells": [
  {
   "cell_type": "code",
   "execution_count": null,
   "id": "d0cccfe3",
   "metadata": {},
   "outputs": [],
   "source": [
    "# Experiment 1: Baseline Logistic Regression Model\n",
    "                                            import joblib\n",
    "                                            print(\"Notebook auto-generated during MLflow run.\")\n",
    "                                            model = joblib.load(\"logistic_regression_model.pkl\")\n",
    "                                            print(\"Loaded model:\", model)"
   ]
  }
 ],
 "metadata": {},
 "nbformat": 4,
 "nbformat_minor": 5
}
